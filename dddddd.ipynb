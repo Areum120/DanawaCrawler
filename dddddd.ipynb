{
 "cells": [
  {
   "cell_type": "code",
   "execution_count": 3,
   "metadata": {
    "collapsed": true
   },
   "outputs": [
    {
     "data": {
      "text/plain": "             car_name            sub_name quentity\n0                 그랜저             가솔린 2.4   48,572\n1                 그랜저             가솔린 3.0   35,800\n2                 그랜저             LPG 3.0   25,221\n3                 그랜저              디젤 2.2    8,309\n4                 그랜저             가솔린 3.3    1,616\n..                ...                 ...      ...\n86  쏘나타 뉴 라이즈 plug-in  가솔린 2.0 플러그인 하이브리드       21\n87            더 뉴 i30             1.6 DSL       13\n88            더 뉴 i30             1.6 DSL       13\n89       아이오닉 plug-in            1.6 PHEV        5\n90       아이오닉 plug-in            1.6 PHEV        5\n\n[91 rows x 3 columns]",
      "text/html": "<div>\n<style scoped>\n    .dataframe tbody tr th:only-of-type {\n        vertical-align: middle;\n    }\n\n    .dataframe tbody tr th {\n        vertical-align: top;\n    }\n\n    .dataframe thead th {\n        text-align: right;\n    }\n</style>\n<table border=\"1\" class=\"dataframe\">\n  <thead>\n    <tr style=\"text-align: right;\">\n      <th></th>\n      <th>car_name</th>\n      <th>sub_name</th>\n      <th>quentity</th>\n    </tr>\n  </thead>\n  <tbody>\n    <tr>\n      <th>0</th>\n      <td>그랜저</td>\n      <td>가솔린 2.4</td>\n      <td>48,572</td>\n    </tr>\n    <tr>\n      <th>1</th>\n      <td>그랜저</td>\n      <td>가솔린 3.0</td>\n      <td>35,800</td>\n    </tr>\n    <tr>\n      <th>2</th>\n      <td>그랜저</td>\n      <td>LPG 3.0</td>\n      <td>25,221</td>\n    </tr>\n    <tr>\n      <th>3</th>\n      <td>그랜저</td>\n      <td>디젤 2.2</td>\n      <td>8,309</td>\n    </tr>\n    <tr>\n      <th>4</th>\n      <td>그랜저</td>\n      <td>가솔린 3.3</td>\n      <td>1,616</td>\n    </tr>\n    <tr>\n      <th>...</th>\n      <td>...</td>\n      <td>...</td>\n      <td>...</td>\n    </tr>\n    <tr>\n      <th>86</th>\n      <td>쏘나타 뉴 라이즈 plug-in</td>\n      <td>가솔린 2.0 플러그인 하이브리드</td>\n      <td>21</td>\n    </tr>\n    <tr>\n      <th>87</th>\n      <td>더 뉴 i30</td>\n      <td>1.6 DSL</td>\n      <td>13</td>\n    </tr>\n    <tr>\n      <th>88</th>\n      <td>더 뉴 i30</td>\n      <td>1.6 DSL</td>\n      <td>13</td>\n    </tr>\n    <tr>\n      <th>89</th>\n      <td>아이오닉 plug-in</td>\n      <td>1.6 PHEV</td>\n      <td>5</td>\n    </tr>\n    <tr>\n      <th>90</th>\n      <td>아이오닉 plug-in</td>\n      <td>1.6 PHEV</td>\n      <td>5</td>\n    </tr>\n  </tbody>\n</table>\n<p>91 rows × 3 columns</p>\n</div>"
     },
     "execution_count": 3,
     "metadata": {},
     "output_type": "execute_result"
    }
   ],
   "source": [
    "import pandas as pd\n",
    "\n",
    "df = pd.read_json('././303.json')\n",
    "df\n",
    "\n"
   ]
  }
 ],
 "metadata": {
  "kernelspec": {
   "display_name": "Python 3",
   "language": "python",
   "name": "python3"
  },
  "language_info": {
   "codemirror_mode": {
    "name": "ipython",
    "version": 2
   },
   "file_extension": ".py",
   "mimetype": "text/x-python",
   "name": "python",
   "nbconvert_exporter": "python",
   "pygments_lexer": "ipython2",
   "version": "2.7.6"
  }
 },
 "nbformat": 4,
 "nbformat_minor": 0
}