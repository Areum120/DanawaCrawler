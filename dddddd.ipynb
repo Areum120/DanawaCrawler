{
 "cells": [
  {
   "cell_type": "code",
   "execution_count": 1,
   "metadata": {
    "collapsed": true
   },
   "outputs": [
    {
     "name": "stdout",
     "output_type": "stream",
     "text": [
      "                    모델    판매량    점유율\n",
      "0      2           포터2  9,208  16.6%\n",
      "1      3           아반떼  5,973  10.8%\n",
      "2      4         팰리세이드  4,964   8.9%\n",
      "3      5          스타리아  4,304   7.8%\n",
      "4      6           쏘나타  3,774   6.8%\n",
      "5      7         아이오닉5  3,667   6.6%\n",
      "6      8      디 올 뉴 투싼  3,338   6.0%\n",
      "7      9       더 뉴 싼타페  2,780   5.0%\n",
      "8     10    버스/트럭 (현대)  2,704   4.9%\n",
      "9     11     쏘나타 뉴 라이즈  2,353   4.2%\n",
      "10    12            베뉴  1,418   2.6%\n",
      "11    13            넥쏘    751   1.4%\n",
      "12    14        더 뉴 코나    639   1.2%\n",
      "13    15      그랜드 스타렉스     99   0.2%\n",
      "14    16        벨로스터-N     47   0.1%\n"
     ]
    }
   ],
   "source": [
    "from bs4 import BeautifulSoup\n",
    "from html_table_parser import parser_functions as parser\n",
    "import pandas as pd\n",
    "\n",
    "with open('./crawl_result/303.html', encoding='utf-8') as f:\n",
    "    bsobj = BeautifulSoup(f.read(), 'html.parser')\n",
    "\n",
    "    tb = bsobj.find('table', {'class':'recordTable'})\n",
    "    p = parser.make2d(tb)\n",
    "    df = pd.DataFrame(p[2:], columns=p[0])\n",
    "    print(df)\n",
    "\n"
   ]
  }
 ],
 "metadata": {
  "kernelspec": {
   "display_name": "Python 3",
   "language": "python",
   "name": "python3"
  },
  "language_info": {
   "codemirror_mode": {
    "name": "ipython",
    "version": 2
   },
   "file_extension": ".py",
   "mimetype": "text/x-python",
   "name": "python",
   "nbconvert_exporter": "python",
   "pygments_lexer": "ipython2",
   "version": "2.7.6"
  }
 },
 "nbformat": 4,
 "nbformat_minor": 0
}