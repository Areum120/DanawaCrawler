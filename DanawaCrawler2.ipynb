{
 "cells": [
  {
   "cell_type": "code",
   "execution_count": 26,
   "metadata": {},
   "outputs": [
    {
     "data": {
      "text/plain": "'hellooooo'"
     },
     "execution_count": 26,
     "metadata": {},
     "output_type": "execute_result"
    }
   ],
   "source": [
    "from selenium import webdriver\n",
    "import chromedriver_autoinstaller\n",
    "from selenium.webdriver.chrome.options import Options\n",
    "from selenium.webdriver import Chrome\n",
    "from selenium.webdriver.common.by import By\n",
    "from selenium.webdriver.support.ui import WebDriverWait\n",
    "from selenium.webdriver.support import expected_conditions as EC\n",
    "from bs4 import BeautifulSoup\n",
    "import time\n",
    "import pandas as pd\n",
    "from selenium.webdriver.support.ui import Select\n",
    "import os\n",
    "os.getcwd()\n",
    "from libs.hhhhjjjj import world"
   ]
  },
  {
   "cell_type": "code",
   "execution_count": 24,
   "metadata": {},
   "outputs": [
    {
     "ename": "NameError",
     "evalue": "name 'world' is not defined",
     "output_type": "error",
     "traceback": [
      "\u001B[1;31m---------------------------------------------------------------------------\u001B[0m",
      "\u001B[1;31mNameError\u001B[0m                                 Traceback (most recent call last)",
      "\u001B[1;32m<ipython-input-24-e8af1fd95789>\u001B[0m in \u001B[0;36m<module>\u001B[1;34m\u001B[0m\n\u001B[0;32m      2\u001B[0m \u001B[0moptions\u001B[0m \u001B[1;33m=\u001B[0m \u001B[0mOptions\u001B[0m\u001B[1;33m(\u001B[0m\u001B[1;33m)\u001B[0m\u001B[1;33m\u001B[0m\u001B[1;33m\u001B[0m\u001B[0m\n\u001B[0;32m      3\u001B[0m \u001B[0moptions\u001B[0m\u001B[1;33m.\u001B[0m\u001B[0madd_argument\u001B[0m\u001B[1;33m(\u001B[0m\u001B[1;34m'headless'\u001B[0m\u001B[1;33m)\u001B[0m\u001B[1;33m;\u001B[0m \u001B[1;31m# headless는 화면이나 페이지 이동을 표시하지 않고 동작하는 모드\u001B[0m\u001B[1;33m\u001B[0m\u001B[1;33m\u001B[0m\u001B[0m\n\u001B[1;32m----> 4\u001B[1;33m \u001B[0mworld\u001B[0m\u001B[1;33m(\u001B[0m\u001B[1;33m)\u001B[0m\u001B[1;33m\u001B[0m\u001B[1;33m\u001B[0m\u001B[0m\n\u001B[0m\u001B[0;32m      5\u001B[0m \u001B[1;33m\u001B[0m\u001B[0m\n",
      "\u001B[1;31mNameError\u001B[0m: name 'world' is not defined"
     ]
    }
   ],
   "source": [
    "# 다나와 사이트 검색\n",
    "options = Options()\n",
    "options.add_argument('headless'); # headless는 화면이나 페이지 이동을 표시하지 않고 동작하는 모드"
   ]
  },
  {
   "cell_type": "code",
   "execution_count": 33,
   "metadata": {},
   "outputs": [],
   "source": [
    "# webdirver 설정(Chrome, Firefox 등)\n",
    "chromedriver_autoinstaller.install()\n",
    "# driver = webdriver.Chrome(options=options) # 브라우저 창 안보이기\n",
    "driver = webdriver.Chrome() # 브라우저 창 보이기\n",
    "\n",
    "driver.implicitly_wait(5)\n",
    " \n",
    "# 브라우저 사이즈\n",
    "driver.set_window_size(1000,1280)"
   ]
  },
  {
   "cell_type": "code",
   "execution_count": 36,
   "metadata": {},
   "outputs": [],
   "source": [
    "# driver = Chrome()\n",
    "\n",
    "# 페이지 이동(다나와 유럽 URL)\n",
    "url = 'http://auto.danawa.com/newcar/?Work=record&Tab=Top10&Month=2021-06-00&MonthTo=2021-06-00'\n",
    "driver.get(url)"
   ]
  },
  {
   "cell_type": "code",
   "execution_count": null,
   "metadata": {},
   "outputs": [],
   "source": []
  },
  {
   "cell_type": "markdown",
   "metadata": {},
   "source": [
    "## 브랜드별 자동화 ##\n",
    "## 2. 반자동 ##"
   ]
  },
  {
   "cell_type": "code",
   "execution_count": 31,
   "metadata": {},
   "outputs": [],
   "source": [
    "# 브랜드별 검색 \n",
    "mft_xpath = '//*[@id=\"finder_newcar\"]/div[1]/dl[2]/dd/ul/li[1]/button'\n",
    "# //*[@id=\"finder_newcar\"]/div[1]/dl[2]/dd/ul/li[1] bmw\n",
    "# //*[@id=\"finder_newcar\"]/div[1]/dl[2]/dd/ul/li[2] 벤츠\n",
    "# //*[@id=\"finder_newcar\"]/div[1]/dl[2]/dd/ul/li[21]\n",
    "WebDriverWait(driver,3).until(EC.presence_of_element_located((By.XPATH,mft_xpath))).click()"
   ]
  },
  {
   "cell_type": "markdown",
   "metadata": {},
   "source": [
    "## 연도별 데이터 크롤링 ##"
   ]
  },
  {
   "cell_type": "markdown",
   "metadata": {},
   "source": [
    "## 1. 자동화 ##"
   ]
  },
  {
   "cell_type": "code",
   "execution_count": null,
   "metadata": {},
   "outputs": [],
   "source": [
    "# 기간 자동화\n",
    "year = ['2017-01-00','2018-01-00','2019-01-00','2020-01-00','2021-01-00']"
   ]
  },
  {
   "cell_type": "code",
   "execution_count": null,
   "metadata": {},
   "outputs": [],
   "source": [
    "month_address = []\n",
    "\n",
    "# 기간 설정 반복문\n",
    "for i in year[0:4]:\n",
    "    for j in year[1:5]:\n",
    "        url2 = f'http://auto.danawa.com/newcar/?Work=record&Tab=Top10&Brand=362&Month={i}&MonthTo={j}'\n",
    "        print(url2)\n",
    "        month_address.append(url2)"
   ]
  },
  {
   "cell_type": "code",
   "execution_count": 39,
   "metadata": {},
   "outputs": [],
   "source": [
    "korea_brand = [303,304,307,\"312,316\",326,\"321,322\",337,329,328]\n",
    "europe_brand = [349,371,376,413,422,618,367,459,394,399,381,440,436,445,404,408,409,390,385,622]\n",
    "japanchina_brand = [491,486,500,537,617]"
   ]
  },
  {
   "cell_type": "code",
   "execution_count": 40,
   "metadata": {},
   "outputs": [],
   "source": [
    "korea_brand_list = []\n",
    "\n",
    "for k in korea_brand:\n",
    "    k1 = f'http://auto.danawa.com/newcar/?Work=record&Tab=Top10&Brand={k}&Month=2017-01-00&MonthTo=2018-01-00'\n",
    "    k2 = f'http://auto.danawa.com/newcar/?Work=record&Tab=Top10&Brand={k}&Month=2018-01-00&MonthTo=2019-01-00'\n",
    "    k3 = f'http://auto.danawa.com/newcar/?Work=record&Tab=Top10&Brand={k}&Month=2019-01-00&MonthTo=2020-01-00'\n",
    "    k4 = f'http://auto.danawa.com/newcar/?Work=record&Tab=Top10&Brand={k}&Month=2020-01-00&MonthTo=2021-01-00'\n",
    "    k5 = f'http://auto.danawa.com/newcar/?Work=record&Tab=Top10&Brand={k}&Month=2021-01-00&MonthTo=2021-05-00'\n",
    "    korea_brand_list.append(k1)\n",
    "    korea_brand_list.append(k2)\n",
    "    korea_brand_list.append(k3)\n",
    "    korea_brand_list.append(k4)\n",
    "    korea_brand_list.append(k5)"
   ]
  },
  {
   "cell_type": "code",
   "execution_count": 38,
   "metadata": {},
   "outputs": [
    {
     "data": {
      "text/plain": "[]"
     },
     "execution_count": 38,
     "metadata": {},
     "output_type": "execute_result"
    }
   ],
   "source": [
    "korea_brand_list"
   ]
  },
  {
   "cell_type": "code",
   "execution_count": null,
   "metadata": {},
   "outputs": [],
   "source": [
    "len(korea_brand_list)"
   ]
  },
  {
   "cell_type": "code",
   "execution_count": null,
   "metadata": {},
   "outputs": [],
   "source": [
    "koreaname = ['hyundai17','hyundai18','hyundai19','hyundai20','hyundai21','genesis17','genesis18','genesis19','genesis20','genesis21','kia17','kia18','kia19','kia20','kia21','chebo17','chebo18','chebo19','chebo20','chebo21','ssangyong17','ssangyong18','ssangyong19','ssangyong20','ssangyong21','reno17','reno18','reno19','reno20','reno21','SMARTEV17','SMARTEV18','SMARTEV19','SMARTEV20','SMARTEV21','camsis17','camsis18','camsis19','camsis20','camsis21','daechang17','daechang18','daechang19','daechang20','daechang21']"
   ]
  },
  {
   "cell_type": "code",
   "execution_count": null,
   "metadata": {},
   "outputs": [],
   "source": [
    "len(koreaname)"
   ]
  },
  {
   "cell_type": "code",
   "execution_count": null,
   "metadata": {},
   "outputs": [],
   "source": [
    "# webdirver 설정(Chrome, Firefox 등)\n",
    "\n",
    "# for x in korea_brand_list:\n",
    "#     print(x)\n",
    "#     driver.get('x')"
   ]
  },
  {
   "cell_type": "code",
   "execution_count": null,
   "metadata": {},
   "outputs": [],
   "source": [
    "data=[]\n",
    "\n",
    "# 기간 선택 반복\n",
    "for x in korea_brand_list:    \n",
    "    for m in koreaname:\n",
    "        # webdirver 설정(Chrome, Firefox 등)\n",
    "        chromedriver_autoinstaller.install()\n",
    "        # driver = webdriver.Chrome(options=options) # 브라우저 창 안보이기\n",
    "        driver = webdriver.Chrome() # 브라우저 창 보이기\n",
    "        # 크롬 브라우저 내부 대기 (암묵적 대기)\n",
    "        driver.implicitly_wait(5)\n",
    "        # 브라우저 사이즈\n",
    "        driver.set_window_size(1920,1280)\n",
    "        driver.get(x)#주소창 차례대로 입력\n",
    "        temp = soup.find_all('table')#테이블 정보 긁어오기\n",
    "        p = parser.make2d(temp[0])#페이지 긁어오기\n",
    "        df = pd.DataFrame(p[2:], columns=p[0])#데이터프레임화 \n",
    "        df.to_csv(f'{m}_year_data.csv', encoding='utf-8-sig')#csv파일 저장"
   ]
  },
  {
   "cell_type": "code",
   "execution_count": null,
   "metadata": {},
   "outputs": [],
   "source": [
    "data"
   ]
  },
  {
   "cell_type": "code",
   "execution_count": null,
   "metadata": {},
   "outputs": [],
   "source": [
    "for n in range(len(data)):\n",
    "    for m in koreaname:\n",
    "        df.to_csv(f'{m}_year_data.csv', encoding='utf-8-sig')#csv파일 저장"
   ]
  },
  {
   "cell_type": "code",
   "execution_count": null,
   "metadata": {},
   "outputs": [],
   "source": [
    "# 기간 선택 반복\n",
    "for x in korea_brand_list:\n",
    "    for m in koreaname:\n",
    "        driver.get(x)#주소창 차례대로 입력\n",
    "        temp = soup.find_all('table')#테이블 정보 긁어오기\n",
    "        p = parser.make2d(temp[0])#페이지 긁어오기\n",
    "        df = pd.DataFrame(p[2:], columns=p[0])#데이터프레임화 \n",
    "        df.to_csv(f'{m}_year_data.csv', encoding='utf-8-sig')#csv파일 저장"
   ]
  },
  {
   "cell_type": "code",
   "execution_count": null,
   "metadata": {},
   "outputs": [],
   "source": [
    "europe_brand_list = []\n",
    "\n",
    "for i in europe_brand:\n",
    "    e1 = f'http://auto.danawa.com/newcar/?Work=record&Tab=Top10&Brand={i}&Month=2017-01-00&MonthTo=2018-01-00'\n",
    "    e2 = f'http://auto.danawa.com/newcar/?Work=record&Tab=Top10&Brand={i}&Month=2018-01-00&MonthTo=2019-01-00'\n",
    "    e3 = f'http://auto.danawa.com/newcar/?Work=record&Tab=Top10&Brand={i}&Month=2019-01-00&MonthTo=2020-01-00'\n",
    "    e4 = f'http://auto.danawa.com/newcar/?Work=record&Tab=Top10&Brand={i}&Month=2020-01-00&MonthTo=2021-01-00'\n",
    "    e5 = f'http://auto.danawa.com/newcar/?Work=record&Tab=Top10&Brand={i}&Month=2021-01-00&MonthTo=2021-05-00'\n",
    "    europe_brand_list.append(e1)\n",
    "    europe_brand_list.append(e2)\n",
    "    europe_brand_list.append(e3)\n",
    "    europe_brand_list.append(e4)\n",
    "    europe_brand_list.append(e5)"
   ]
  },
  {
   "cell_type": "code",
   "execution_count": null,
   "metadata": {},
   "outputs": [],
   "source": [
    "# europe_brand= list(set(europe_brand))"
   ]
  },
  {
   "cell_type": "code",
   "execution_count": null,
   "metadata": {},
   "outputs": [],
   "source": [
    "len(europe_brand)"
   ]
  },
  {
   "cell_type": "code",
   "execution_count": null,
   "metadata": {},
   "outputs": [],
   "source": [
    "europe_brand_list"
   ]
  },
  {
   "cell_type": "code",
   "execution_count": null,
   "metadata": {},
   "outputs": [],
   "source": [
    "len(europe_brand_list)"
   ]
  },
  {
   "cell_type": "code",
   "execution_count": null,
   "metadata": {},
   "outputs": [],
   "source": [
    "#bs4 초기화\n",
    "soup = BeautifulSoup(driver.page_source, 'html.parser')"
   ]
  },
  {
   "cell_type": "code",
   "execution_count": null,
   "metadata": {},
   "outputs": [],
   "source": [
    "europename = ['benz17','benz18','benz19','benz20','benz21','audi17','audi18','audi19','audi20','audi21','fox17','fox18','fox19','fox20','fox21','puzzo17','puzzo18','puzzo19','puzzo20','puzzo21','citroen17','citroen18','citroen19','citroen20','citroen21','ds17','ds18','ds19','ds20','ds21','mini17','mini18','mini19','mini20','mini21','volvo17','volvo18','volvo19','volvo20','volvo21','jaguar17','jaguar18','jaguar19','jaguar20','jaguar21','land17','land18','land19','land20','land21','porche17','porche18','porche19','porche20','porche21','lambor17','lambor18','lambor19','lambor20','lambor21','perari17','perari18','perari19','perari20','perari21','maserati17','maserati18','maserati19','maserati20','maserati21','ester17','ester18','ester19','ester20','ester21','loters17','loters18','loters19','loters20','loters21','mcraren17','mcraren18','mcraren19','mcraren20','mcraren21','bentli17','bentli18','bentli19','bentli20','bentli21','roles17','roles18','roles19','roles20','roles21','eveco17','eveco18','eveco19','eveco20','eveco21']"
   ]
  },
  {
   "cell_type": "code",
   "execution_count": null,
   "metadata": {},
   "outputs": [],
   "source": [
    "# europename = list(set(europename))#중복제거"
   ]
  },
  {
   "cell_type": "code",
   "execution_count": null,
   "metadata": {},
   "outputs": [],
   "source": [
    "len(europename)"
   ]
  },
  {
   "cell_type": "code",
   "execution_count": null,
   "metadata": {},
   "outputs": [],
   "source": [
    "europename"
   ]
  },
  {
   "cell_type": "code",
   "execution_count": null,
   "metadata": {},
   "outputs": [],
   "source": [
    "# 기간 선택 반복\n",
    "for x in europe_brand_list:\n",
    "    for m in europename:\n",
    "        driver.get(x)#주소창 차례대로 입력\n",
    "        temp = soup.find_all('table')#테이블 정보 긁어오기 \n",
    "        p = parser.make2d(temp[0])#페이지 긁어오기\n",
    "        df = pd.DataFrame(p[2:], columns=p[0])#데이터프레임화 \n",
    "        df.to_csv(f'{m}_year_data.csv', encoding='utf-8-sig')#csv파일 저장"
   ]
  },
  {
   "cell_type": "markdown",
   "metadata": {},
   "source": [
    "## 시각화(plotly) ##"
   ]
  },
  {
   "cell_type": "code",
   "execution_count": null,
   "metadata": {},
   "outputs": [],
   "source": [
    "!pip install plotly==3.8.1\n",
    "!pip install cufflinks"
   ]
  },
  {
   "cell_type": "code",
   "execution_count": null,
   "metadata": {},
   "outputs": [],
   "source": [
    "# 패키지로드\n",
    "# - Standard plotly imports\n",
    "import plotly.plotly as py\n",
    "import cufflinks as cf\n",
    "cf.go_offline(connected=True)"
   ]
  },
  {
   "cell_type": "code",
   "execution_count": null,
   "metadata": {},
   "outputs": [],
   "source": [
    "df = cf.datagen.lines()\n",
    "df.head()"
   ]
  },
  {
   "cell_type": "markdown",
   "metadata": {},
   "source": [
    "## 2. 반자동화 ##"
   ]
  },
  {
   "cell_type": "code",
   "execution_count": null,
   "metadata": {
    "scrolled": true
   },
   "outputs": [],
   "source": [
    "# 상품 리스트 선택\n",
    "temp = soup.find_all('table')\n",
    "temp"
   ]
  },
  {
   "cell_type": "code",
   "execution_count": null,
   "metadata": {},
   "outputs": [],
   "source": [
    "!pip install html_table_parser"
   ]
  },
  {
   "cell_type": "code",
   "execution_count": null,
   "metadata": {},
   "outputs": [],
   "source": [
    "from html_table_parser import parser_functions as parser"
   ]
  },
  {
   "cell_type": "code",
   "execution_count": null,
   "metadata": {},
   "outputs": [],
   "source": [
    "# 2017~2018\n",
    "temp = soup.find_all('table')\n",
    "temp"
   ]
  },
  {
   "cell_type": "code",
   "execution_count": null,
   "metadata": {
    "scrolled": false
   },
   "outputs": [],
   "source": [
    "p = parser.make2d(temp[0])"
   ]
  },
  {
   "cell_type": "code",
   "execution_count": null,
   "metadata": {},
   "outputs": [],
   "source": [
    "p#ndarray"
   ]
  },
  {
   "cell_type": "code",
   "execution_count": null,
   "metadata": {},
   "outputs": [],
   "source": [
    "import pandas as pd\n",
    "df = pd.DataFrame(p[2:], columns=p[0])\n",
    "df"
   ]
  },
  {
   "cell_type": "markdown",
   "metadata": {},
   "source": [
    "## 연도별로 데이터 합치기 ##"
   ]
  },
  {
   "cell_type": "markdown",
   "metadata": {},
   "source": [
    "## 월 별 데이터 크롤링 ##"
   ]
  },
  {
   "cell_type": "code",
   "execution_count": null,
   "metadata": {},
   "outputs": [],
   "source": [
    "# 1월부터 12월 생성\n",
    "option_value=[]\n",
    "for i in range(1, 13):\n",
    "    if i >=1 and i<10:\n",
    "        option_value.append('0'+str(i)+'월')\n",
    "    else:\n",
    "        option_value.append(str(i)+'월')\n",
    "print(option_value)"
   ]
  },
  {
   "cell_type": "code",
   "execution_count": null,
   "metadata": {},
   "outputs": [],
   "source": [
    "# 1월부터 12월까지 내용 저장\n",
    "option_list =[]\n",
    "for j in option_value:\n",
    "    select = Select(driver.find_element_by_id('selDay'))#  월 선택\n",
    "    select.select_by_visible_text(j)# 드롭다운 메뉴 값 선택 1월~12월까지\n",
    "    option_list.append(j)"
   ]
  },
  {
   "cell_type": "code",
   "execution_count": null,
   "metadata": {},
   "outputs": [],
   "source": [
    "print(option_list)"
   ]
  },
  {
   "cell_type": "code",
   "execution_count": null,
   "metadata": {},
   "outputs": [],
   "source": [
    "# 검색 결과가 렌더링 될 때까지 잠시 대기\n",
    "time.sleep(2)"
   ]
  },
  {
   "cell_type": "code",
   "execution_count": null,
   "metadata": {},
   "outputs": [],
   "source": [
    "# 긁어오기\n",
    "for v in option_list:\n",
    "    if v.find('div', class_='prod_main_info'):\n",
    "        # 상품 모델명, 판매량, 점유율, 전월대비, 전년대비\n",
    "        name = v.select_one('p.prod_name > a').text.strip()\n",
    "        sales = v.select_one('p.price_sect > a').text.strip()\n",
    "        share = v.select_one('div.thumb_image > a > img').get('data-original')\n",
    "        compare_to_previous_month = v.select_one('div.thumb_image > a > img').get('data-original')\n",
    "        compare_to_previous_year = v.select_one('div.thumb_image > a > img').get('data-original')\n",
    "        if img_link == None:\n",
    "            img_link = v.select_one('div.thumb_image > a > img').get('src')\n",
    "        print(name, price, img_link)\n",
    "    print()"
   ]
  },
  {
   "cell_type": "code",
   "execution_count": null,
   "metadata": {},
   "outputs": [],
   "source": [
    "# 엑셀 저장"
   ]
  },
  {
   "cell_type": "code",
   "execution_count": null,
   "metadata": {},
   "outputs": [],
   "source": [
    "# 브라우저 종료"
   ]
  }
 ],
 "metadata": {
  "kernelspec": {
   "display_name": "Python 3",
   "language": "python",
   "name": "python3"
  },
  "language_info": {
   "codemirror_mode": {
    "name": "ipython",
    "version": 3
   },
   "file_extension": ".py",
   "mimetype": "text/x-python",
   "name": "python",
   "nbconvert_exporter": "python",
   "pygments_lexer": "ipython3",
   "version": "3.8.8"
  }
 },
 "nbformat": 4,
 "nbformat_minor": 4
}